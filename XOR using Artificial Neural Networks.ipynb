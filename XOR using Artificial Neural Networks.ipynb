{
 "cells": [
  {
   "cell_type": "code",
   "execution_count": 68,
   "metadata": {},
   "outputs": [],
   "source": [
    "import os,numpy as np,pandas as pd,math,matplotlib.pyplot as plt,random \n",
    "\n",
    "#=================================FUNCTIONS==========================================\n",
    "\n",
    "def sigmoid(z):\n",
    "    return 1 / (1 + math.exp(-z))\n",
    "\n",
    "\n",
    "vSigmoid = np.vectorize(sigmoid) # functions take a vector and apply sigmoid on each element\n",
    "\n",
    "\n",
    "def error(Y,A):\n",
    "        logA = np.log10(A)\n",
    "        A_1 = 1 - A  # (1-a)\n",
    "        logA_1 = np.log10(A_1)\n",
    "        Y_1 = 1 - Y # (1-y)\n",
    "        \n",
    "        e =-(np.multiply(Y,logA) + np.multiply(Y_1,logA_1))\n",
    "        return np.sum(e)/4\n",
    "    \n",
    "\n",
    "    "
   ]
  },
  {
   "cell_type": "code",
   "execution_count": 81,
   "metadata": {},
   "outputs": [],
   "source": [
    "X = np.matrix('0 0; 0 1; 1 0; 1 1')\n",
    "Y = np.array([0,1,1,0])\n",
    "X = X.T\n",
    "m = 4\n",
    "a = 0.00000000001 # Alpha\n"
   ]
  },
  {
   "cell_type": "code",
   "execution_count": null,
   "metadata": {
    "collapsed": true
   },
   "outputs": [],
   "source": []
  },
  {
   "cell_type": "markdown",
   "metadata": {},
   "source": [
    "# FORWARD PASS"
   ]
  },
  {
   "cell_type": "markdown",
   "metadata": {},
   "source": [
    "# Layer 0 (Features)"
   ]
  },
  {
   "cell_type": "code",
   "execution_count": 45,
   "metadata": {},
   "outputs": [],
   "source": [
    "\n",
    "\n",
    "#=========================OUTPUT OF LAYER 0 ============================\n",
    "#Layer 0 contains our features\n",
    "\n",
    "A0 = X\n",
    "\n",
    "\n",
    "\n"
   ]
  },
  {
   "cell_type": "markdown",
   "metadata": {},
   "source": [
    "# Layer 1"
   ]
  },
  {
   "cell_type": "code",
   "execution_count": 46,
   "metadata": {},
   "outputs": [
    {
     "name": "stdout",
     "output_type": "stream",
     "text": [
      "(2, 4)\n"
     ]
    }
   ],
   "source": [
    "\n",
    "#Number of Nodes 9\n",
    "#Input of layer 1 is A0 (Output of layer 0)\n",
    "\n",
    "W1 = np.random.rand(2,2)\n",
    "b1 = np.random.rand(2,1)\n",
    "\n",
    "\n",
    "Z1 = np.dot(W1,A0) #Multiping thetas of all nodes of layer 1 with all data instances\n",
    "Z1 = np.add(Z1,b1) #Broadcasting bais of all nodes of layer 1 \n",
    "print(Z1.shape)\n",
    "A1 = np.apply_along_axis(vSigmoid, 0, Z1)  # applying sigmoid on each coloumn "
   ]
  },
  {
   "cell_type": "markdown",
   "metadata": {},
   "source": [
    "# Layer 2"
   ]
  },
  {
   "cell_type": "code",
   "execution_count": 47,
   "metadata": {},
   "outputs": [],
   "source": [
    "# Number of Nodes 1\n",
    "#Input of layer 2 is A1 (Output of layer 1)\n",
    "\n",
    "W2 = np.random.rand(1,2)\n",
    "b2 = np.random.rand()\n",
    "\n",
    "Z2 = np.dot(W2,A1) #Multiping thetas of all nodes of layer 2 with all data instances\n",
    "Z2 = np.add(Z2,b2) #Broadcasting bais of all nodes of layer 2 \n",
    "\n",
    "A2 = np.apply_along_axis(vSigmoid, 0, Z2)  # applying sigmoid on each coloumn \n",
    "\n"
   ]
  },
  {
   "cell_type": "markdown",
   "metadata": {},
   "source": [
    "# BACK PROPAGATION"
   ]
  },
  {
   "cell_type": "markdown",
   "metadata": {},
   "source": [
    "# Layer 2"
   ]
  },
  {
   "cell_type": "code",
   "execution_count": 48,
   "metadata": {},
   "outputs": [],
   "source": [
    "dz2 = A2 - Y\n",
    "\n",
    "dw2 = np.dot(dz2,A1.T)/m\n",
    "\n",
    "\n",
    "db2 = np.sum(dz2,axis = 1) / m\n",
    "\n"
   ]
  },
  {
   "cell_type": "markdown",
   "metadata": {},
   "source": [
    "# Layer 1"
   ]
  },
  {
   "cell_type": "code",
   "execution_count": 64,
   "metadata": {},
   "outputs": [],
   "source": [
    "dg1 = np.multiply((np.apply_along_axis(vSigmoid, 0, Z1)),(1 - np.apply_along_axis(vSigmoid, 0, Z1)))\n",
    "       \n",
    "dz1 = np.multiply(np.dot(W2.T,dz2),dg1)\n",
    "\n",
    "dw1 = np.dot(dz1,X.T)/m\n",
    "db1 = np.sum(dz1,axis = 1)/m\n"
   ]
  },
  {
   "cell_type": "markdown",
   "metadata": {},
   "source": [
    "# UPDATING THETAS"
   ]
  },
  {
   "cell_type": "markdown",
   "metadata": {},
   "source": [
    "# Layer 1"
   ]
  },
  {
   "cell_type": "code",
   "execution_count": 65,
   "metadata": {},
   "outputs": [],
   "source": [
    "W1 = W1 - (a * dw1)\n",
    "b1 = b1 - (a * db1)\n"
   ]
  },
  {
   "cell_type": "markdown",
   "metadata": {},
   "source": [
    "# Layer 2"
   ]
  },
  {
   "cell_type": "code",
   "execution_count": 66,
   "metadata": {},
   "outputs": [],
   "source": [
    "W2 = W2 - (a * dw2)\n",
    "b2 = b2 - (a * db2)"
   ]
  },
  {
   "cell_type": "markdown",
   "metadata": {},
   "source": [
    "# Main Function"
   ]
  },
  {
   "cell_type": "code",
   "execution_count": 97,
   "metadata": {},
   "outputs": [
    {
     "name": "stdout",
     "output_type": "stream",
     "text": [
      "epoc : 0\n",
      "gradient: 0.012440763118155104\n",
      "epoc : 1\n",
      "gradient: 0.011979015401975336\n",
      "epoc : 2\n",
      "gradient: 0.0192625137138481\n",
      "epoc : 3\n",
      "gradient: 0.007043061054146147\n",
      "ERRORS\n",
      "[0.4580330159879369, 0.36814445407827123, 0.5064436679786711, 0.33312058063675043]\n",
      "FINAL WEIGHTS LAYER 1\n",
      "[[0.87415832 0.40053068]\n",
      " [0.48885052 0.21869788]]\n",
      "FINAL BIAS LAYER 1\n",
      "[[0.43517977]\n",
      " [0.38083014]]\n",
      "FINAL WEIGHTS LAYER 2\n",
      "[[0.21118307 0.41775526]]\n",
      "FINAL BIAS LAYER 2\n",
      "[[0.34757969]]\n"
     ]
    }
   ],
   "source": [
    "epoc = 0\n",
    "epocs = []\n",
    "gradient = 100\n",
    "maxGradient1 = 0\n",
    "maxGradient2 = 0\n",
    "errors = []\n",
    "\n",
    "while gradient > 0.01:  # and gradient > 0.01 epoc < 200 and \n",
    "    #=========================OUTPUT OF LAYER 0 ============================\n",
    "    #Layer 0 contains our features\n",
    "\n",
    "    A0 = X\n",
    "\n",
    "\n",
    "    #Number of Nodes 9\n",
    "    #Input of layer 1 is A0 (Output of layer 0)\n",
    "\n",
    "    W1 = np.random.rand(2,2)\n",
    "    b1 = np.random.rand(2,1)\n",
    "\n",
    "\n",
    "    Z1 = np.dot(W1,A0) #Multiping thetas of all nodes of layer 1 with all data instances\n",
    "    Z1 = np.add(Z1,b1) #Broadcasting bais of all nodes of layer 1 \n",
    "\n",
    "    A1 = np.apply_along_axis(vSigmoid, 0, Z1)  # applying sigmoid on each coloumn \n",
    "\n",
    "    # Number of Nodes 1\n",
    "    #Input of layer 2 is A1 (Output of layer 1)\n",
    "\n",
    "    W2 = np.random.rand(1,2)\n",
    "    b2 = np.random.rand()\n",
    "\n",
    "    Z2 = np.dot(W2,A1) #Multiping thetas of all nodes of layer 2 with all data instances\n",
    "    Z2 = np.add(Z2,b2) #Broadcasting bais of all nodes of layer 2 \n",
    "\n",
    "    A2 = np.apply_along_axis(vSigmoid, 0, Z2)  # applying sigmoid on each coloumn \n",
    "    \n",
    "    errors.append(error(Y,A2))\n",
    "    print(\"epoc : \"+ str(epoc))\n",
    "    #print(errors[epoc])\n",
    "    #BackPropagation\n",
    "    #Layer 2\n",
    "    dz2 = A2 - Y\n",
    "\n",
    "    dw2 = np.dot(dz2,A1.T)/m\n",
    "\n",
    "    db2 = np.sum(dz2,axis = 1) / m\n",
    "    \n",
    "    #Layer 1\n",
    "    dg1 = np.multiply((np.apply_along_axis(vSigmoid, 0, Z1)),(1 - np.apply_along_axis(vSigmoid, 0, Z1)))\n",
    "       \n",
    "    dz1 = np.multiply(np.dot(W2.T,dz2),dg1)\n",
    "\n",
    "    dw1 = np.dot(dz1,X.T)/m\n",
    "    db1 = np.sum(dz1,axis = 1)/m\n",
    "\n",
    "    #UPDATING THETAS\n",
    "    #layer 1\n",
    "    W1 = W1 - (a * dw1)\n",
    "    b1 = b1 - (a * db1)\n",
    "    \n",
    "    #layer 2\n",
    "    W2 = W2 - (a * dw2)\n",
    "    b2 = b2 - (a * db2)\n",
    "\n",
    "    #finding max gradient in both layers\n",
    "    \n",
    "    maxGradient1 = np.amax(dw1)\n",
    "    maxGradient2 = np.amax(dw2)\n",
    "    gradient = min([maxGradient1,maxGradient2])\n",
    "    print(\"gradient: \" +  str(gradient))\n",
    "    epoc = epoc + 1\n",
    "    epocs.append(epoc)\n",
    "    \n",
    "\n",
    "# plt.figure(num=None, figsize=(12, 9), dpi=80)\n",
    "# plt.plot(epocs, errors,'-bo')\n",
    "# plt.title(\"Training Error wrt epoc\")\n",
    "# plt.xlabel(\"Errors\")\n",
    "# plt.ylabel(\"Epocs\")\n",
    "# plt.yticks(errors)\n",
    "# plt.show()\n",
    "print(\"ERRORS\")\n",
    "print(errors)    \n",
    "\n",
    "print(\"FINAL WEIGHTS LAYER 1\")\n",
    "print(W1)\n",
    "\n",
    "print(\"FINAL BIAS LAYER 1\")\n",
    "print(b1)\n",
    "\n",
    "print(\"FINAL WEIGHTS LAYER 2\")\n",
    "print(W2)\n",
    "\n",
    "print(\"FINAL BIAS LAYER 2\")\n",
    "print(b2)"
   ]
  }
 ],
 "metadata": {
  "kernelspec": {
   "display_name": "Python 2",
   "language": "python",
   "name": "python2"
  },
  "language_info": {
   "codemirror_mode": {
    "name": "ipython",
    "version": 2
   },
   "file_extension": ".py",
   "mimetype": "text/x-python",
   "name": "python",
   "nbconvert_exporter": "python",
   "pygments_lexer": "ipython2",
   "version": "2.7.14"
  }
 },
 "nbformat": 4,
 "nbformat_minor": 2
}
