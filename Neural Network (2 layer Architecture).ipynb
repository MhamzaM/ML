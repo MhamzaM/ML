{
 "cells": [
  {
   "cell_type": "code",
   "execution_count": 2,
   "metadata": {
    "collapsed": true
   },
   "outputs": [],
   "source": [
    "import os,numpy as np,pandas as pd,math,matplotlib.pyplot as plt,random \n",
    "\n",
    "#=================================FUNCTIONS==========================================\n",
    "\n",
    "def sigmoid(z):\n",
    "    return 1 / (1 + math.exp(-z))\n",
    "\n",
    "\n",
    "vSigmoid = np.vectorize(sigmoid) # functions take a vector and apply sigmoid on each element\n",
    "\n",
    "\n",
    "\n",
    "def loss(A,Y):\n",
    "    "
   ]
  },
  {
   "cell_type": "code",
   "execution_count": 39,
   "metadata": {
    "collapsed": true
   },
   "outputs": [],
   "source": [
    "dir = \"data\"\n",
    "file = \"TicTacToeData.csv\"\n",
    "\n",
    "filename = os.path.join(dir,file)\n",
    "columns = ['TL','TM','TR','ML','MM','MR','BL','BM','BR','Result']\n",
    "\n",
    "df = pd.read_csv(filename, names = columns) #b = 0.21 (blank) x = 0.22 (player x) o = 0.23 (player o)\n",
    "df = df.sample(frac=1).reset_index(drop=True) #shuffling rows\n",
    "    \n",
    "    \n",
    "X = df[['TL','TM','TR','ML','MM','MR','BL','BM','BR']].as_matrix() #features values\n",
    "\n",
    "\n",
    "X = X.T\n",
    " \n",
    "m = X.shape[1] # Number of data points\n",
    "\n",
    "Y = np.array([df['Result']]) # Ground Truth (for player x win)\n",
    "\n",
    "a = 0.0001 # Alpha\n"
   ]
  },
  {
   "cell_type": "code",
   "execution_count": null,
   "metadata": {
    "collapsed": true
   },
   "outputs": [],
   "source": []
  },
  {
   "cell_type": "markdown",
   "metadata": {},
   "source": [
    "# FORWARD PASS"
   ]
  },
  {
   "cell_type": "markdown",
   "metadata": {},
   "source": [
    "# Layer 0 (Features)"
   ]
  },
  {
   "cell_type": "code",
   "execution_count": 4,
   "metadata": {
    "collapsed": true
   },
   "outputs": [],
   "source": [
    "\n",
    "#=========================OUTPUT OF LAYER 0 ============================\n",
    "#Layer 0 contains our features\n",
    "\n",
    "A0 = X\n",
    "\n",
    "\n"
   ]
  },
  {
   "cell_type": "markdown",
   "metadata": {},
   "source": [
    "# Layer 1"
   ]
  },
  {
   "cell_type": "code",
   "execution_count": 5,
   "metadata": {
    "collapsed": true
   },
   "outputs": [],
   "source": [
    "\n",
    "#Number of Nodes 9\n",
    "#Input of layer 1 is A0 (Output of layer 0)\n",
    "\n",
    "W1 = np.random.rand(9,9)\n",
    "b1 = np.random.rand(9,1)\n",
    "\n",
    "\n",
    "Z1 = np.dot(W1,A0) #Multiping thetas of all nodes of layer 1 with all data instances\n",
    "Z1 = np.add(Z1,b1) #Broadcasting bais of all nodes of layer 1 \n",
    "\n",
    "A1 = np.apply_along_axis(vSigmoid, 0, Z1)  # applying sigmoid on each coloumn "
   ]
  },
  {
   "cell_type": "markdown",
   "metadata": {},
   "source": [
    "# Layer 2"
   ]
  },
  {
   "cell_type": "code",
   "execution_count": 6,
   "metadata": {
    "collapsed": true
   },
   "outputs": [],
   "source": [
    "# Number of Nodes 1\n",
    "#Input of layer 2 is A1 (Output of layer 1)\n",
    "\n",
    "W2 = np.random.rand(1,9)\n",
    "b2 = np.random.rand()\n",
    "\n",
    "Z2 = np.dot(W2,A1) #Multiping thetas of all nodes of layer 2 with all data instances\n",
    "Z2 = np.add(Z2,b2) #Broadcasting bais of all nodes of layer 2 \n",
    "\n",
    "A2 = np.apply_along_axis(vSigmoid, 0, Z2)  # applying sigmoid on each coloumn \n",
    "\n"
   ]
  },
  {
   "cell_type": "markdown",
   "metadata": {},
   "source": [
    "# BACK PROPAGATION"
   ]
  },
  {
   "cell_type": "markdown",
   "metadata": {},
   "source": [
    "# Layer 2"
   ]
  },
  {
   "cell_type": "code",
   "execution_count": 46,
   "metadata": {},
   "outputs": [],
   "source": [
    "dz2 = A2 - Y\n",
    "\n",
    "dw2 = np.dot(dz2,A1.T)/m\n",
    "\n",
    "db2 = np.sum(dz2,axis = 1, keepdims = True) / m\n",
    "\n"
   ]
  },
  {
   "cell_type": "markdown",
   "metadata": {},
   "source": [
    "# Layer 1"
   ]
  },
  {
   "cell_type": "code",
   "execution_count": 50,
   "metadata": {},
   "outputs": [
    {
     "name": "stdout",
     "output_type": "stream",
     "text": [
      "(9, 9)\n"
     ]
    }
   ],
   "source": [
    "dg1 = ((np.apply_along_axis(vSigmoid, 0, Z1))*(1 - np.apply_along_axis(vSigmoid, 0, Z1)))\n",
    "dz1 = np.dot(W2.T,dz2) * dg1\n",
    "\n",
    "dw1 = np.dot(dz1,X.T)/m\n",
    "db1 = np.sum(dz1,axis = 1,keepdims = True)/m\n",
    "\n",
    "print(dw1.shape)"
   ]
  },
  {
   "cell_type": "markdown",
   "metadata": {},
   "source": [
    "# UPDATING THETAS"
   ]
  },
  {
   "cell_type": "markdown",
   "metadata": {},
   "source": [
    "# Layer 1"
   ]
  },
  {
   "cell_type": "code",
   "execution_count": 42,
   "metadata": {},
   "outputs": [],
   "source": [
    "W1 = W1 - (a * dw1)\n",
    "b1 = b1 - (a * db1)"
   ]
  },
  {
   "cell_type": "markdown",
   "metadata": {},
   "source": [
    "# Layer 2"
   ]
  },
  {
   "cell_type": "code",
   "execution_count": 45,
   "metadata": {
    "collapsed": true
   },
   "outputs": [],
   "source": [
    "W2 = W2 - (a * dw2)\n",
    "b2 = b2 - (a * db2)"
   ]
  }
 ],
 "metadata": {
  "kernelspec": {
   "display_name": "Python 3",
   "language": "python",
   "name": "python3"
  },
  "language_info": {
   "codemirror_mode": {
    "name": "ipython",
    "version": 3
   },
   "file_extension": ".py",
   "mimetype": "text/x-python",
   "name": "python",
   "nbconvert_exporter": "python",
   "pygments_lexer": "ipython3",
   "version": "3.6.3"
  }
 },
 "nbformat": 4,
 "nbformat_minor": 2
}
